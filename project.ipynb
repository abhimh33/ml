{
 "cells": [
  {
   "cell_type": "code",
   "execution_count": null,
   "id": "ba259843-d1d6-4c84-9155-e3d91183cae8",
   "metadata": {},
   "outputs": [],
   "source": [
    "from sklearn.model_selection import train_test_split\n",
    "from sklearn.preprocessing import LabelEncoder\n",
    "from sklearn.ensemble import RandomForestClassifier\n",
    "from sklearn.metrics import accuracy_score, classification_report\n",
    "\n",
    "# Step 1: Data Cleaning & Feature Engineering\n",
    "df_clean = df.copy()\n",
    "\n",
    "# Create a target variable: Assume invoices above a threshold (e.g., 500) are fully paid, otherwise pending\n",
    "df_clean[\"paid_status\"] = df_clean[\"paid\"].apply(lambda x: 1 if x > 500 else 0)\n",
    "\n",
    "# Encode categorical variables (mode of payment)\n",
    "le = LabelEncoder()\n",
    "df_clean[\"mode_encoded\"] = le.fit_transform(df_clean[\"mode\"])\n",
    "\n",
    "# Fill missing GST values (Assuming 0 means no GST applied)\n",
    "df_clean[\"gstin_filled\"] = df_clean[\"gstin\"].fillna(0)\n",
    "\n",
    "# Select features and target\n",
    "features = [\"discount\", \"gst\", \"mode_encoded\", \"gstin_filled\"]\n",
    "target = \"paid_status\"\n",
    "\n",
    "# Split data\n",
    "X_train, X_test, y_train, y_test = train_test_split(df_clean[features], df_clean[target], test_size=0.2, random_state=42)\n",
    "\n",
    "# Step 2: Train a Model\n",
    "model = RandomForestClassifier(n_estimators=100, random_state=42)\n",
    "model.fit(X_train, y_train)\n",
    "\n",
    "# Step 3: Predictions & Evaluation\n",
    "y_pred = model.predict(X_test)\n",
    "accuracy = accuracy_score(y_test, y_pred)\n",
    "report = classification_report(y_test, y_pred)\n",
    "\n",
    "accuracy, report\n"
   ]
  }
 ],
 "metadata": {
  "kernelspec": {
   "display_name": "Python 3 (ipykernel)",
   "language": "python",
   "name": "python3"
  },
  "language_info": {
   "codemirror_mode": {
    "name": "ipython",
    "version": 3
   },
   "file_extension": ".py",
   "mimetype": "text/x-python",
   "name": "python",
   "nbconvert_exporter": "python",
   "pygments_lexer": "ipython3",
   "version": "3.9.19"
  }
 },
 "nbformat": 4,
 "nbformat_minor": 5
}
